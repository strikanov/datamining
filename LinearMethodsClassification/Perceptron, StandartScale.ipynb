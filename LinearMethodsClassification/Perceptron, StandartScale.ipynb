{
 "cells": [
  {
   "cell_type": "code",
   "execution_count": 1,
   "metadata": {
    "collapsed": false
   },
   "outputs": [
    {
     "data": {
      "text/plain": [
       "0.65500000000000003"
      ]
     },
     "execution_count": 1,
     "metadata": {},
     "output_type": "execute_result"
    }
   ],
   "source": [
    "import numpy as np\n",
    "import pandas as pd\n",
    "\n",
    "from sklearn.linear_model import Perceptron\n",
    "\n",
    "from sklearn.metrics import accuracy_score # Доля верных ответов\n",
    "# (1arg = вектор правильных ответов, 2arg = вектор ответов алгоритма)\n",
    "\n",
    "from sklearn.preprocessing import StandardScaler # Стандартизация признаков\n",
    "# fit_transform() - находит параметры нормализации и затем делает нормализацию,\n",
    "# с использованием этих параметров.\n",
    "# transform() - делает нормализацию на основе уже найденных параметров.\n",
    "\n",
    "scaler = StandardScaler() \n",
    "\n",
    "\n",
    "X_train = pd.read_csv('perceptron-train.csv', names=['y', 'x1', 'x2'])\n",
    "X_test = pd.read_csv('perceptron-test.csv', names=['y', 'x1', 'x2'])\n",
    "\n",
    "y_train = X_train.y\n",
    "y_test = X_test.y\n",
    "\n",
    "del X_train['y']\n",
    "del X_test['y']\n",
    "\n",
    "clf = Perceptron(random_state=241)\n",
    "clf.fit(X_train, y_train)\n",
    "y_pred = clf.predict(X_test)\n",
    "\n",
    "from sklearn.metrics import accuracy_score\n",
    "\n",
    "accuracy_score(y_pred, y_test)"
   ]
  },
  {
   "cell_type": "code",
   "execution_count": 2,
   "metadata": {
    "collapsed": false
   },
   "outputs": [
    {
     "data": {
      "text/plain": [
       "0.84499999999999997"
      ]
     },
     "execution_count": 2,
     "metadata": {},
     "output_type": "execute_result"
    }
   ],
   "source": [
    "X_train_scaled = scaler.fit_transform(X_train)\n",
    "X_test_scaled = scaler.transform(X_test)\n",
    "\n",
    "clf = Perceptron(random_state=241)\n",
    "clf.fit(X_train_scaled, y_train)\n",
    "y_pred_after_scale = clf.predict(X_test_scaled)\n",
    "\n",
    "accuracy_score(y_pred_after_scale, y_test)"
   ]
  },
  {
   "cell_type": "code",
   "execution_count": 3,
   "metadata": {
    "collapsed": false
   },
   "outputs": [
    {
     "name": "stdout",
     "output_type": "stream",
     "text": [
      "An absolute improvement\n"
     ]
    },
    {
     "data": {
      "text/plain": [
       "0.18999999999999995"
      ]
     },
     "execution_count": 3,
     "metadata": {},
     "output_type": "execute_result"
    }
   ],
   "source": [
    "print(\"An absolute improvement\")\n",
    "accuracy_score(y_pred_after_scale, y_test) - accuracy_score(y_pred, y_test)"
   ]
  },
  {
   "cell_type": "code",
   "execution_count": null,
   "metadata": {
    "collapsed": true
   },
   "outputs": [],
   "source": []
  }
 ],
 "metadata": {
  "kernelspec": {
   "display_name": "Python 3",
   "language": "python",
   "name": "python3"
  },
  "language_info": {
   "codemirror_mode": {
    "name": "ipython",
    "version": 3
   },
   "file_extension": ".py",
   "mimetype": "text/x-python",
   "name": "python",
   "nbconvert_exporter": "python",
   "pygments_lexer": "ipython3",
   "version": "3.6.0"
  }
 },
 "nbformat": 4,
 "nbformat_minor": 2
}
