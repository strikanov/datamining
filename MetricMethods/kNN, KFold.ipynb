{
 "cells": [
  {
   "cell_type": "code",
   "execution_count": 1,
   "metadata": {
    "collapsed": false
   },
   "outputs": [],
   "source": [
    "import pandas as pd\n",
    "import numpy as np\n",
    "import sklearn.model_selection\n",
    "import matplotlib.pyplot as plt\n",
    "\n",
    "i_col=['Kind', 'Alcohol', 'Malic acid', 'Ash',\n",
    "           'Alcalinity of ash', 'Magnesium',\n",
    "           'Total phenols', 'Flavanoids',\n",
    "           'Nonflavanoids phenols', 'Proanthocyanins',\n",
    "           'Color intensity', 'Hue',\n",
    "           'OD280/OD315 of diluted wines', 'Proline']\n",
    "\n",
    "wine = pd.read_csv('_wine.data', names=i_col)"
   ]
  },
  {
   "cell_type": "code",
   "execution_count": 2,
   "metadata": {
    "collapsed": false
   },
   "outputs": [],
   "source": [
    "tgt = wine.Kind\n",
    "del wine['Kind']"
   ]
  },
  {
   "cell_type": "code",
   "execution_count": 3,
   "metadata": {
    "collapsed": false
   },
   "outputs": [],
   "source": [
    "from sklearn.neighbors import KNeighborsClassifier\n",
    "from sklearn.metrics import mean_absolute_error\n",
    "\n",
    "kf = sklearn.model_selection.KFold(n_splits=5, \n",
    "                                   shuffle=True, random_state=42)"
   ]
  },
  {
   "cell_type": "code",
   "execution_count": 4,
   "metadata": {
    "collapsed": false
   },
   "outputs": [
    {
     "data": {
      "image/png": "[encoded data removed]",
      "text/plain": [
       "<matplotlib.figure.Figure at 0x1b8cd5d8cc0>"
      ]
     },
     "metadata": {},
     "output_type": "display_data"
    },
    {
     "name": "stdout",
     "output_type": "stream",
     "text": [
      "0.657777777778 0.730476190476\n"
     ]
    }
   ],
   "source": [
    "from sklearn.model_selection import cross_val_score\n",
    "\n",
    "points = []\n",
    "for i in range(1, 51):\n",
    "    points.append(cross_val_score(KNeighborsClassifier(n_neighbors=i), \n",
    "                                  wine, tgt, cv=kf).mean())\n",
    "    \n",
    "plt.scatter([x for x in range(50)], points, alpha=0.5)\n",
    "plt.show()\n",
    "\n",
    "print(min(points), max(points))"
   ]
  },
  {
   "cell_type": "code",
   "execution_count": 5,
   "metadata": {
    "collapsed": false
   },
   "outputs": [
    {
     "name": "stdout",
     "output_type": "stream",
     "text": [
      "1\n"
     ]
    }
   ],
   "source": [
    "for i in range(points.__len__()):\n",
    "    if points[i] == max(points):\n",
    "        print(i + 1)"
   ]
  },
  {
   "cell_type": "code",
   "execution_count": 6,
   "metadata": {
    "collapsed": false
   },
   "outputs": [],
   "source": [
    "new_wine = sklearn.preprocessing.scale(wine)"
   ]
  },
  {
   "cell_type": "code",
   "execution_count": 7,
   "metadata": {
    "collapsed": false
   },
   "outputs": [
    {
     "data": {
      "image/png": "[encoded data removed]",
      "text/plain": [
       "<matplotlib.figure.Figure at 0x1b8cd759358>"
      ]
     },
     "metadata": {},
     "output_type": "display_data"
    },
    {
     "name": "stdout",
     "output_type": "stream",
     "text": [
      "0.932857142857 0.977619047619\n"
     ]
    }
   ],
   "source": [
    "points = []\n",
    "for i in range(1, 51):\n",
    "    points.append(cross_val_score(KNeighborsClassifier(n_neighbors=i), \n",
    "                                  new_wine, tgt, cv=kf).mean())\n",
    "\n",
    "plt.scatter([x for x in range(50)], points, alpha=0.5)\n",
    "plt.show()\n",
    "\n",
    "print(min(points), max(points))"
   ]
  },
  {
   "cell_type": "code",
   "execution_count": 8,
   "metadata": {
    "collapsed": false
   },
   "outputs": [
    {
     "name": "stdout",
     "output_type": "stream",
     "text": [
      "29\n"
     ]
    }
   ],
   "source": [
    "for i in range(points.__len__()):\n",
    "    if points[i] == max(points):\n",
    "        print(i + 1)"
   ]
  }
 ],
 "metadata": {
  "kernelspec": {
   "display_name": "Python 3",
   "language": "python",
   "name": "python3"
  },
  "language_info": {
   "codemirror_mode": {
    "name": "ipython",
    "version": 3
   },
   "file_extension": ".py",
   "mimetype": "text/x-python",
   "name": "python",
   "nbconvert_exporter": "python",
   "pygments_lexer": "ipython3",
   "version": "3.6.0"
  }
 },
 "nbformat": 4,
 "nbformat_minor": 2
}
